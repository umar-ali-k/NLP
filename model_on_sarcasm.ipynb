{
  "nbformat": 4,
  "nbformat_minor": 0,
  "metadata": {
    "colab": {
      "name": "model_on_sarcasm.ipynb",
      "provenance": [],
      "collapsed_sections": [],
      "include_colab_link": true
    },
    "kernelspec": {
      "name": "python3",
      "display_name": "Python 3"
    },
    "accelerator": "TPU"
  },
  "cells": [
    {
      "cell_type": "markdown",
      "metadata": {
        "id": "view-in-github",
        "colab_type": "text"
      },
      "source": [
        "<a href=\"https://colab.research.google.com/github/umar-ali-k/NLP/blob/master/model_on_sarcasm.ipynb\" target=\"_parent\"><img src=\"https://colab.research.google.com/assets/colab-badge.svg\" alt=\"Open In Colab\"/></a>"
      ]
    },
    {
      "cell_type": "markdown",
      "metadata": {
        "id": "EpyVsr6ErDJu",
        "colab_type": "text"
      },
      "source": [
        "# Import necessary packages"
      ]
    },
    {
      "cell_type": "code",
      "metadata": {
        "id": "xnNwIxEBYAvN",
        "colab_type": "code",
        "colab": {}
      },
      "source": [
        "import json\n",
        "import tensorflow as tf\n",
        "\n",
        "from tensorflow.keras.preprocessing.text import Tokenizer\n",
        "from tensorflow.keras.preprocessing.sequence import pad_sequences"
      ],
      "execution_count": 0,
      "outputs": []
    },
    {
      "cell_type": "markdown",
      "metadata": {
        "id": "Iq7niEJ-rKmj",
        "colab_type": "text"
      },
      "source": [
        "## Set the hyper-parametres"
      ]
    },
    {
      "cell_type": "code",
      "metadata": {
        "id": "kc-p4QDnY6GU",
        "colab_type": "code",
        "colab": {}
      },
      "source": [
        "vocab_size = 10000\n",
        "embedding_dim = 16\n",
        "max_length = 100\n",
        "trunc_type='post'\n",
        "padding_type='post'\n",
        "oov_tok = \"<OOV>\"\n",
        "training_size = 20000"
      ],
      "execution_count": 0,
      "outputs": []
    },
    {
      "cell_type": "markdown",
      "metadata": {
        "id": "xquObtchrRKK",
        "colab_type": "text"
      },
      "source": [
        "## Download the dataset"
      ]
    },
    {
      "cell_type": "code",
      "metadata": {
        "id": "KaHGhhYWZBxv",
        "colab_type": "code",
        "outputId": "ca687b18-c34d-4886-f9a3-4e8789afc994",
        "colab": {
          "base_uri": "https://localhost:8080/",
          "height": 210
        }
      },
      "source": [
        "!wget --no-check-certificate \\\n",
        "    https://storage.googleapis.com/laurencemoroney-blog.appspot.com/sarcasm.json \\\n",
        "    -O /tmp/sarcasm.json"
      ],
      "execution_count": 0,
      "outputs": [
        {
          "output_type": "stream",
          "text": [
            "--2019-09-27 17:18:03--  https://storage.googleapis.com/laurencemoroney-blog.appspot.com/sarcasm.json\n",
            "Resolving storage.googleapis.com (storage.googleapis.com)... 108.177.112.128, 2607:f8b0:4001:c0b::80\n",
            "Connecting to storage.googleapis.com (storage.googleapis.com)|108.177.112.128|:443... connected.\n",
            "HTTP request sent, awaiting response... 200 OK\n",
            "Length: 5643545 (5.4M) [application/json]\n",
            "Saving to: ‘/tmp/sarcasm.json’\n",
            "\n",
            "\r/tmp/sarcasm.json     0%[                    ]       0  --.-KB/s               \r/tmp/sarcasm.json   100%[===================>]   5.38M  --.-KB/s    in 0.07s   \n",
            "\n",
            "2019-09-27 17:18:03 (72.7 MB/s) - ‘/tmp/sarcasm.json’ saved [5643545/5643545]\n",
            "\n"
          ],
          "name": "stdout"
        }
      ]
    },
    {
      "cell_type": "markdown",
      "metadata": {
        "id": "n289wjOsrZEl",
        "colab_type": "text"
      },
      "source": [
        "# Open the json file and extract sentences and labels in the form of lists"
      ]
    },
    {
      "cell_type": "code",
      "metadata": {
        "id": "1JTRZOaQZGWC",
        "colab_type": "code",
        "colab": {}
      },
      "source": [
        "\n",
        "with open(\"/tmp/sarcasm.json\", 'r') as f:\n",
        "    datastore = json.load(f)\n",
        "\n",
        "sentences = []\n",
        "labels = []\n",
        "\n",
        "for item in datastore:\n",
        "    sentences.append(item['headline'])\n",
        "    labels.append(item['is_sarcastic'])"
      ],
      "execution_count": 0,
      "outputs": []
    },
    {
      "cell_type": "code",
      "metadata": {
        "id": "6ZeZg5xyZeWi",
        "colab_type": "code",
        "colab": {}
      },
      "source": [
        "training_sentences = sentences[0:training_size]\n",
        "testing_sentences = sentences[training_size:]\n",
        "training_labels = labels[0:training_size]\n",
        "testing_labels = labels[training_size:]"
      ],
      "execution_count": 0,
      "outputs": []
    },
    {
      "cell_type": "markdown",
      "metadata": {
        "id": "-9rgtK0LrreK",
        "colab_type": "text"
      },
      "source": [
        "# Do the tokenization and pad the sequences"
      ]
    },
    {
      "cell_type": "code",
      "metadata": {
        "id": "zSpKUTl8ZhT1",
        "colab_type": "code",
        "colab": {}
      },
      "source": [
        "tokenizer = Tokenizer(num_words=vocab_size, oov_token=oov_tok)\n",
        "tokenizer.fit_on_texts(training_sentences)\n",
        "\n",
        "word_index = tokenizer.word_index\n",
        "\n",
        "training_sequences = tokenizer.texts_to_sequences(training_sentences)\n",
        "training_padded = pad_sequences(training_sequences, maxlen=max_length, padding=padding_type, truncating=trunc_type)\n",
        "\n",
        "testing_sequences = tokenizer.texts_to_sequences(testing_sentences)\n",
        "testing_padded = pad_sequences(testing_sequences, maxlen=max_length, padding=padding_type, truncating=trunc_type)"
      ],
      "execution_count": 0,
      "outputs": []
    },
    {
      "cell_type": "markdown",
      "metadata": {
        "id": "aPvPdFRIr2KP",
        "colab_type": "text"
      },
      "source": [
        "# Our Keras Model"
      ]
    },
    {
      "cell_type": "code",
      "metadata": {
        "id": "0HKaPzQkZ0u1",
        "colab_type": "code",
        "colab": {}
      },
      "source": [
        "model = tf.keras.Sequential([\n",
        "    tf.keras.layers.Embedding(vocab_size, embedding_dim, input_length=max_length),\n",
        "    tf.keras.layers.GlobalAveragePooling1D(),\n",
        "    tf.keras.layers.Dense(24, activation='relu'),\n",
        "    tf.keras.layers.Dense(1, activation='sigmoid')\n",
        "])\n",
        "model.compile(loss='binary_crossentropy',optimizer='adam',metrics=['accuracy'])"
      ],
      "execution_count": 0,
      "outputs": []
    },
    {
      "cell_type": "markdown",
      "metadata": {
        "id": "_YaTbBJCr-8M",
        "colab_type": "text"
      },
      "source": [
        "## Print the summary of our model"
      ]
    },
    {
      "cell_type": "code",
      "metadata": {
        "id": "zLQRNhjIZ6Ya",
        "colab_type": "code",
        "outputId": "a6c65a7e-1a68-4e03-9f38-bbc9837e5c1b",
        "colab": {
          "base_uri": "https://localhost:8080/",
          "height": 298
        }
      },
      "source": [
        "model.summary()"
      ],
      "execution_count": 0,
      "outputs": [
        {
          "output_type": "stream",
          "text": [
            "Model: \"sequential_1\"\n",
            "_________________________________________________________________\n",
            "Layer (type)                 Output Shape              Param #   \n",
            "=================================================================\n",
            "embedding_1 (Embedding)      (None, 100, 16)           160000    \n",
            "_________________________________________________________________\n",
            "global_average_pooling1d_1 ( (None, 16)                0         \n",
            "_________________________________________________________________\n",
            "dense_2 (Dense)              (None, 24)                408       \n",
            "_________________________________________________________________\n",
            "dense_3 (Dense)              (None, 1)                 25        \n",
            "=================================================================\n",
            "Total params: 160,433\n",
            "Trainable params: 160,433\n",
            "Non-trainable params: 0\n",
            "_________________________________________________________________\n"
          ],
          "name": "stdout"
        }
      ]
    },
    {
      "cell_type": "markdown",
      "metadata": {
        "id": "FBxtsRKEsEBy",
        "colab_type": "text"
      },
      "source": [
        "## Set the number of epochs and fit the model"
      ]
    },
    {
      "cell_type": "code",
      "metadata": {
        "id": "jERvpJGnZ9ra",
        "colab_type": "code",
        "outputId": "acb39b59-75e6-4825-8800-100055fc5223",
        "colab": {
          "base_uri": "https://localhost:8080/",
          "height": 1000
        }
      },
      "source": [
        "\n",
        "num_epochs = 30\n",
        "history = model.fit(training_padded, training_labels, epochs=num_epochs, validation_data=(testing_padded, testing_labels), verbose=2)"
      ],
      "execution_count": 0,
      "outputs": [
        {
          "output_type": "stream",
          "text": [
            "Train on 20000 samples, validate on 6709 samples\n",
            "Epoch 1/30\n",
            "20000/20000 - 3s - loss: 0.6703 - acc: 0.5712 - val_loss: 0.5937 - val_acc: 0.6667\n",
            "Epoch 2/30\n",
            "20000/20000 - 3s - loss: 0.4293 - acc: 0.8278 - val_loss: 0.3795 - val_acc: 0.8435\n",
            "Epoch 3/30\n",
            "20000/20000 - 3s - loss: 0.3033 - acc: 0.8789 - val_loss: 0.3549 - val_acc: 0.8483\n",
            "Epoch 4/30\n",
            "20000/20000 - 3s - loss: 0.2514 - acc: 0.9033 - val_loss: 0.3436 - val_acc: 0.8565\n",
            "Epoch 5/30\n",
            "20000/20000 - 2s - loss: 0.2147 - acc: 0.9172 - val_loss: 0.3476 - val_acc: 0.8557\n",
            "Epoch 6/30\n",
            "20000/20000 - 2s - loss: 0.1879 - acc: 0.9280 - val_loss: 0.3610 - val_acc: 0.8526\n",
            "Epoch 7/30\n",
            "20000/20000 - 2s - loss: 0.1681 - acc: 0.9363 - val_loss: 0.3727 - val_acc: 0.8550\n",
            "Epoch 8/30\n",
            "20000/20000 - 2s - loss: 0.1469 - acc: 0.9474 - val_loss: 0.4311 - val_acc: 0.8375\n",
            "Epoch 9/30\n",
            "20000/20000 - 2s - loss: 0.1330 - acc: 0.9521 - val_loss: 0.4159 - val_acc: 0.8501\n",
            "Epoch 10/30\n",
            "20000/20000 - 2s - loss: 0.1191 - acc: 0.9582 - val_loss: 0.4539 - val_acc: 0.8438\n",
            "Epoch 11/30\n",
            "20000/20000 - 3s - loss: 0.1089 - acc: 0.9631 - val_loss: 0.4723 - val_acc: 0.8436\n",
            "Epoch 12/30\n",
            "20000/20000 - 2s - loss: 0.0992 - acc: 0.9658 - val_loss: 0.4917 - val_acc: 0.8435\n",
            "Epoch 13/30\n",
            "20000/20000 - 2s - loss: 0.0882 - acc: 0.9701 - val_loss: 0.5227 - val_acc: 0.8387\n",
            "Epoch 14/30\n",
            "20000/20000 - 3s - loss: 0.0817 - acc: 0.9744 - val_loss: 0.5537 - val_acc: 0.8383\n",
            "Epoch 15/30\n",
            "20000/20000 - 3s - loss: 0.0757 - acc: 0.9748 - val_loss: 0.5928 - val_acc: 0.8363\n",
            "Epoch 16/30\n",
            "20000/20000 - 2s - loss: 0.0697 - acc: 0.9781 - val_loss: 0.6475 - val_acc: 0.8304\n",
            "Epoch 17/30\n",
            "20000/20000 - 2s - loss: 0.0604 - acc: 0.9816 - val_loss: 0.6664 - val_acc: 0.8313\n",
            "Epoch 18/30\n",
            "20000/20000 - 2s - loss: 0.0562 - acc: 0.9827 - val_loss: 0.7179 - val_acc: 0.8272\n",
            "Epoch 19/30\n",
            "20000/20000 - 3s - loss: 0.0527 - acc: 0.9830 - val_loss: 0.7649 - val_acc: 0.8235\n",
            "Epoch 20/30\n",
            "20000/20000 - 2s - loss: 0.0481 - acc: 0.9850 - val_loss: 0.7920 - val_acc: 0.8216\n",
            "Epoch 21/30\n",
            "20000/20000 - 3s - loss: 0.0459 - acc: 0.9858 - val_loss: 0.8080 - val_acc: 0.8219\n",
            "Epoch 22/30\n",
            "20000/20000 - 3s - loss: 0.0409 - acc: 0.9872 - val_loss: 0.8673 - val_acc: 0.8205\n",
            "Epoch 23/30\n",
            "20000/20000 - 3s - loss: 0.0366 - acc: 0.9898 - val_loss: 0.9066 - val_acc: 0.8207\n",
            "Epoch 24/30\n",
            "20000/20000 - 3s - loss: 0.0333 - acc: 0.9907 - val_loss: 1.0671 - val_acc: 0.8141\n",
            "Epoch 25/30\n",
            "20000/20000 - 3s - loss: 0.0303 - acc: 0.9916 - val_loss: 1.0473 - val_acc: 0.8156\n",
            "Epoch 26/30\n",
            "20000/20000 - 3s - loss: 0.0279 - acc: 0.9920 - val_loss: 1.0464 - val_acc: 0.8147\n",
            "Epoch 27/30\n",
            "20000/20000 - 2s - loss: 0.0257 - acc: 0.9924 - val_loss: 1.0815 - val_acc: 0.8149\n",
            "Epoch 28/30\n",
            "20000/20000 - 2s - loss: 0.0245 - acc: 0.9930 - val_loss: 1.1480 - val_acc: 0.8147\n",
            "Epoch 29/30\n",
            "20000/20000 - 3s - loss: 0.0236 - acc: 0.9929 - val_loss: 1.1602 - val_acc: 0.8134\n",
            "Epoch 30/30\n",
            "20000/20000 - 3s - loss: 0.0217 - acc: 0.9939 - val_loss: 1.2609 - val_acc: 0.8120\n"
          ],
          "name": "stdout"
        }
      ]
    },
    {
      "cell_type": "markdown",
      "metadata": {
        "id": "OObyOPNcs2eK",
        "colab_type": "text"
      },
      "source": [
        "## Plot the loss using matplotlib"
      ]
    },
    {
      "cell_type": "code",
      "metadata": {
        "id": "WdhM0We6aD3h",
        "colab_type": "code",
        "colab": {}
      },
      "source": [
        "import matplotlib.pyplot as plt\n",
        "\n",
        "def plot_graphs(history, string):\n",
        "  plt.plot(history.history[string])\n",
        "  plt.plot(history.history['val_'+string])\n",
        "  plt.xlabel(\"Epochs\")\n",
        "  plt.ylabel(string)\n",
        "  plt.legend([string, 'val_'+string])\n",
        "  plt.show()\n"
      ],
      "execution_count": 0,
      "outputs": []
    },
    {
      "cell_type": "code",
      "metadata": {
        "id": "BNnLBseXbmx2",
        "colab_type": "code",
        "outputId": "beace7ec-7d72-4f75-c2ec-c3671b6edad1",
        "colab": {
          "base_uri": "https://localhost:8080/",
          "height": 283
        }
      },
      "source": [
        "plot_graphs(history, \"loss\")"
      ],
      "execution_count": 0,
      "outputs": [
        {
          "output_type": "display_data",
          "data": {
            "image/png": "[encoded data removed]",
            "text/plain": [
              "<Figure size 432x288 with 1 Axes>"
            ]
          },
          "metadata": {
            "tags": []
          }
        }
      ]
    },
    {
      "cell_type": "markdown",
      "metadata": {
        "id": "zDIxMxLdt7jd",
        "colab_type": "text"
      },
      "source": [
        "## Decoding our training sentences after tokenizing and padding them"
      ]
    },
    {
      "cell_type": "code",
      "metadata": {
        "id": "vBeDQX-vcBCb",
        "colab_type": "code",
        "outputId": "ab28470f-affc-4a38-820e-d1639579c4ce",
        "colab": {
          "base_uri": "https://localhost:8080/",
          "height": 90
        }
      },
      "source": [
        "\n",
        "reverse_word_index = dict([(value, key) for (key, value) in word_index.items()])\n",
        "\n",
        "def decode_sentence(text):\n",
        "    return ' '.join([reverse_word_index.get(i, '?') for i in text])\n",
        "\n",
        "print(decode_sentence(training_padded[0]))\n",
        "print(training_sentences[2])\n",
        "print(labels[2])"
      ],
      "execution_count": 0,
      "outputs": [
        {
          "output_type": "stream",
          "text": [
            "former <OOV> store clerk sues over secret 'black <OOV> for minority shoppers ? ? ? ? ? ? ? ? ? ? ? ? ? ? ? ? ? ? ? ? ? ? ? ? ? ? ? ? ? ? ? ? ? ? ? ? ? ? ? ? ? ? ? ? ? ? ? ? ? ? ? ? ? ? ? ? ? ? ? ? ? ? ? ? ? ? ? ? ? ? ? ? ? ? ? ? ? ? ? ? ? ? ? ? ? ? ? ?\n",
            "mom starting to fear son's web series closest thing she will have to grandchild\n",
            "1\n"
          ],
          "name": "stdout"
        }
      ]
    },
    {
      "cell_type": "markdown",
      "metadata": {
        "id": "eoe5S_e0uJXt",
        "colab_type": "text"
      },
      "source": [
        "# Get the number of words and also the dimensions of our embeddings"
      ]
    },
    {
      "cell_type": "code",
      "metadata": {
        "id": "uiLV8Nv5cJCA",
        "colab_type": "code",
        "outputId": "5a431ff7-55b6-4533-a452-e2d3102dc678",
        "colab": {
          "base_uri": "https://localhost:8080/",
          "height": 34
        }
      },
      "source": [
        "\n",
        "e = model.layers[0]\n",
        "weights = e.get_weights()[0]\n",
        "print(weights.shape) # shape: (vocab_size, embedding_dim)"
      ],
      "execution_count": 0,
      "outputs": [
        {
          "output_type": "stream",
          "text": [
            "(10000, 16)\n"
          ],
          "name": "stdout"
        }
      ]
    },
    {
      "cell_type": "markdown",
      "metadata": {
        "id": "NHrcDYr9uaSd",
        "colab_type": "text"
      },
      "source": [
        "## For Visualization on Tensorboard"
      ]
    },
    {
      "cell_type": "code",
      "metadata": {
        "id": "h8Y2IowfcTSn",
        "colab_type": "code",
        "colab": {}
      },
      "source": [
        "import io\n",
        "\n",
        "out_v = io.open('vecs.tsv', 'w', encoding='utf-8')\n",
        "out_m = io.open('meta.tsv', 'w', encoding='utf-8')\n",
        "for word_num in range(1, vocab_size):\n",
        "  word = reverse_word_index[word_num]\n",
        "  embeddings = weights[word_num]\n",
        "  out_m.write(word + \"\\n\")\n",
        "  out_v.write('\\t'.join([str(x) for x in embeddings]) + \"\\n\")\n",
        "out_v.close()\n",
        "out_m.close()"
      ],
      "execution_count": 0,
      "outputs": []
    },
    {
      "cell_type": "code",
      "metadata": {
        "id": "8J7qvLo1cWGN",
        "colab_type": "code",
        "colab": {}
      },
      "source": [
        "try:\n",
        "  from google.colab import files\n",
        "except ImportError:\n",
        "  pass\n",
        "else:\n",
        "  files.download('vecs.tsv')\n",
        "  files.download('meta.tsv')"
      ],
      "execution_count": 0,
      "outputs": []
    },
    {
      "cell_type": "markdown",
      "metadata": {
        "id": "dacWK4OxrA2v",
        "colab_type": "text"
      },
      "source": [
        "## Prediction"
      ]
    },
    {
      "cell_type": "code",
      "metadata": {
        "id": "DX8FIvoocYLY",
        "colab_type": "code",
        "outputId": "aad80cae-2680-4262-c4bc-164b168fca9c",
        "colab": {
          "base_uri": "https://localhost:8080/",
          "height": 52
        }
      },
      "source": [
        "\n",
        "sentence = [\"granny starting to fear spiders in the garden might be real\", \"game of thrones season finale showing this sunday night\"]\n",
        "sequences = tokenizer.texts_to_sequences(sentence)\n",
        "padded = pad_sequences(sequences, maxlen=max_length, padding=padding_type, truncating=trunc_type)\n",
        "print(model.predict(padded))"
      ],
      "execution_count": 0,
      "outputs": [
        {
          "output_type": "stream",
          "text": [
            "[[0.49796104]\n",
            " [0.49761578]]\n"
          ],
          "name": "stdout"
        }
      ]
    }
  ]
}