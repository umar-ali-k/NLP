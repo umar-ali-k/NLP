{
 "cells": [
  {
   "cell_type": "code",
   "execution_count": 4,
   "metadata": {},
   "outputs": [],
   "source": [
    "import tensorflow as tf\n",
    "from tensorflow import keras\n",
    "from tensorflow.keras.preprocessing.text import Tokenizer\n",
    "from tensorflow.keras.preprocessing.sequence import pad_sequences"
   ]
  },
  {
   "cell_type": "code",
   "execution_count": 5,
   "metadata": {},
   "outputs": [],
   "source": [
    "sentences=[\n",
    "          'I am learning how to tokenizer the words',\n",
    "          'It is a one small step but sometimes clearing basics is what needed the most',\n",
    "          'Hope this one small step will lead us towards building RNN'\n",
    "          ]\n",
    " "
   ]
  },
  {
   "cell_type": "code",
   "execution_count": 6,
   "metadata": {},
   "outputs": [
    {
     "name": "stdout",
     "output_type": "stream",
     "text": [
      "{'<oov>': 1, 'the': 2, 'is': 3, 'one': 4, 'small': 5, 'step': 6, 'i': 7, 'am': 8, 'learning': 9, 'how': 10, 'to': 11, 'tokenizer': 12, 'words': 13, 'it': 14, 'a': 15, 'but': 16, 'sometimes': 17, 'clearing': 18, 'basics': 19, 'what': 20, 'needed': 21, 'most': 22, 'hope': 23, 'this': 24, 'will': 25, 'lead': 26, 'us': 27, 'towards': 28, 'building': 29, 'rnn': 30}\n",
      "\n",
      "[[7, 8, 9, 10, 11, 12, 2, 13], [14, 3, 15, 4, 5, 6, 16, 17, 18, 19, 3, 20, 21, 2, 22], [23, 24, 4, 5, 6, 25, 26, 27, 28, 29, 30]]\n",
      "\n",
      "[[ 7  8  9 10 11 12  2 13  0  0  0  0  0  0  0]\n",
      " [14  3 15  4  5  6 16 17 18 19  3 20 21  2 22]\n",
      " [23 24  4  5  6 25 26 27 28 29 30  0  0  0  0]]\n"
     ]
    }
   ],
   "source": [
    "tokenizer=Tokenizer(num_words=100,oov_token=\"<oov>\")\n",
    "tokenizer.fit_on_texts(sentences)\n",
    "word_index=tokenizer.word_index\n",
    " \n",
    "sequences=tokenizer.texts_to_sequences(sentences)\n",
    "\n",
    "#doing padding on the sequences\n",
    "padded=pad_sequences(sequences,padding='post',maxlen=15,truncating='post')\n",
    "\n",
    "print(word_index)\n",
    "\n",
    "print()\n",
    "\n",
    "print(sequences)\n",
    "\n",
    "print()\n",
    "print(padded)"
   ]
  },
  {
   "cell_type": "code",
   "execution_count": 7,
   "metadata": {},
   "outputs": [
    {
     "name": "stdout",
     "output_type": "stream",
     "text": [
      "[[1, 1, 7, 8, 9, 10, 11, 1, 2, 13], [1, 14, 3, 15, 4, 5, 6], [14, 1, 26, 1, 28, 29, 30]]\n",
      "\n",
      "\n",
      "[[ 1  1  7  8  9 10 11  1  2 13  0  0  0  0  0]\n",
      " [ 1 14  3 15  4  5  6  0  0  0  0  0  0  0  0]\n",
      " [14  1 26  1 28 29 30  0  0  0  0  0  0  0  0]]\n"
     ]
    }
   ],
   "source": [
    "#try it with the test data\n",
    "test_data=[\n",
    "    'Hello friends I am learning how to tokenize the words',\n",
    "    'Since it is a one small step',\n",
    "    'It would lead me towards building RNN'\n",
    "    ]\n",
    "\n",
    "test_seq=tokenizer.texts_to_sequences(test_data)\n",
    "print(test_seq)\n",
    "\n",
    "padded=pad_sequences(test_seq,maxlen=15,padding='post',truncating='post')\n",
    "print()\n",
    "print()\n",
    "print(padded)"
   ]
  },
  {
   "cell_type": "code",
   "execution_count": null,
   "metadata": {},
   "outputs": [],
   "source": []
  }
 ],
 "metadata": {
  "kernelspec": {
   "display_name": "Python 3",
   "language": "python",
   "name": "python3"
  },
  "language_info": {
   "codemirror_mode": {
    "name": "ipython",
    "version": 3
   },
   "file_extension": ".py",
   "mimetype": "text/x-python",
   "name": "python",
   "nbconvert_exporter": "python",
   "pygments_lexer": "ipython3",
   "version": "3.7.4"
  }
 },
 "nbformat": 4,
 "nbformat_minor": 2
}
