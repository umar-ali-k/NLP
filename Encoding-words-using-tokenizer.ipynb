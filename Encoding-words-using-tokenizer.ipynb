{
 "cells": [
  {
   "cell_type": "code",
   "execution_count": 1,
   "metadata": {},
   "outputs": [],
   "source": [
    "import tensorflow as tf\n",
    "from tensorflow import keras\n",
    "from tensorflow.keras.preprocessing.text import Tokenizer"
   ]
  },
  {
   "cell_type": "markdown",
   "metadata": {},
   "source": [
    "## Generating a dictionary of word-encodings creating vectors out of sentences."
   ]
  },
  {
   "cell_type": "code",
   "execution_count": 2,
   "metadata": {},
   "outputs": [
    {
     "name": "stdout",
     "output_type": "stream",
     "text": [
      "['harry', 'potter', 'is', 'a', 'series', 'of', 'fantasy', 'novels', 'written', 'by', 'british', 'author', 'j.', 'k.', 'rowling.', 'the', 'novels', 'chronicle', 'the', 'lives', 'of', 'a', 'young', 'wizard,', 'harry', 'potter,', 'and', 'his', 'friends', 'hermione', 'granger', 'and', 'ron', 'weasley,', 'all', 'of', 'whom', 'are', 'students', 'at', 'hogwarts', 'school', 'of', 'witchcraft', 'and', 'wizardry.', 'the', 'main', 'story', 'arc', 'concerns', \"harry's\", 'struggle', 'against', 'lord', 'voldemort,a', 'dark', 'wizard', 'who', 'intends', 'to', 'become', 'immortal,', 'overthrow', 'the', 'wizard', 'governing', 'body', 'known', 'as', 'the', 'ministry', 'of', 'magic', 'and', 'subjugate', 'all', 'wizards', 'and', 'muggles']\n",
      "{'of': 1, 'the': 2, 'and': 3, 'a': 4, 'wizard': 5, 'harry': 6, 'potter': 7, 'novels': 8, 'all': 9, 'is': 10, 'series': 11, 'fantasy': 12, 'written': 13, 'by': 14, 'british': 15, 'author': 16, 'j': 17, 'k': 18, 'rowling': 19, 'chronicle': 20, 'lives': 21, 'young': 22, 'his': 23, 'friends': 24, 'hermione': 25, 'granger': 26, 'ron': 27, 'weasley': 28, 'whom': 29, 'are': 30, 'students': 31, 'at': 32, 'hogwarts': 33, 'school': 34, 'witchcraft': 35, 'wizardry': 36, 'main': 37, 'story': 38, 'arc': 39, 'concerns': 40, \"harry's\": 41, 'struggle': 42, 'against': 43, 'lord': 44, 'voldemort': 45, 'dark': 46, 'who': 47, 'intends': 48, 'to': 49, 'become': 50, 'immortal': 51, 'overthrow': 52, 'governing': 53, 'body': 54, 'known': 55, 'as': 56, 'ministry': 57, 'magic': 58, 'subjugate': 59, 'wizards': 60, 'muggles': 61}\n"
     ]
    }
   ],
   "source": [
    "text=\"\"\"Harry Potter is a series of fantasy novels written by British author J. K. Rowling.\n",
    "        The novels chronicle the lives of a young wizard, Harry Potter, and his friends Hermione Granger and Ron Weasley,\n",
    "        all of whom are students at Hogwarts School of Witchcraft and Wizardry. The main story arc concerns Harry's struggle\n",
    "        against Lord Voldemort,a dark wizard who intends to become immortal, overthrow the wizard governing body known as the \n",
    "        Ministry of Magic and subjugate all wizards and Muggles\"\"\"\n",
    "\n",
    "corpus=text.lower().split() \n",
    "print(corpus)\n",
    "    \n",
    "#Creaing an instance of the Tokenizer\n",
    "#num_words=50 as there would be atmost 50 unique distict words in text.\n",
    "tokenizer=Tokenizer(num_words=50)\n",
    "#Takes in the data and encodes it.\n",
    "tokenizer.fit_on_texts(corpus)\n",
    "#the Tokenizer provides a word index property which returns a dictionary of key-value pairs where key is the word and value is the token for that word.\n",
    "word_index=tokenizer.word_index\n",
    "print(word_index)\n",
    "#or\n",
    "#print(tokenizer.word_index)"
   ]
  },
  {
   "cell_type": "code",
   "execution_count": null,
   "metadata": {},
   "outputs": [],
   "source": [
    "##Tokenizer strips the punctuation out.\n",
    "##horse! and horse woud be treated as the same word. Horse and horse would be treated as the same word. Words like 'I' and 'i' will be the same unique word, As 'I' would be transformed into small letter first and then encoded"
   ]
  }
 ],
 "metadata": {
  "kernelspec": {
   "display_name": "Python 3",
   "language": "python",
   "name": "python3"
  },
  "language_info": {
   "codemirror_mode": {
    "name": "ipython",
    "version": 3
   },
   "file_extension": ".py",
   "mimetype": "text/x-python",
   "name": "python",
   "nbconvert_exporter": "python",
   "pygments_lexer": "ipython3",
   "version": "3.7.4"
  }
 },
 "nbformat": 4,
 "nbformat_minor": 2
}
